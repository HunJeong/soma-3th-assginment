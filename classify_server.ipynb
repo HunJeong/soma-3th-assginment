{
 "cells": [
  {
   "cell_type": "markdown",
   "metadata": {},
   "source": []
  },
  {
   "cell_type": "code",
   "execution_count": 1,
   "metadata": {
    "collapsed": true
   },
   "outputs": [],
   "source": [
    "from sklearn.externals import joblib\n",
    "import sys\n",
    "default_stdout = sys.stdout\n",
    "default_stderr = sys.stderr\n",
    "reload(sys)\n",
    "sys.stdout = default_stdout\n",
    "sys.stderr = default_stderr\n",
    "sys.setdefaultencoding('utf-8')\n",
    "from konlpy.tag import Twitter\n",
    "twitter = Twitter()"
   ]
  },
  {
   "cell_type": "code",
   "execution_count": 2,
   "metadata": {
    "collapsed": false,
    "scrolled": true
   },
   "outputs": [
    {
     "data": {
      "text/plain": [
       "'\\nexcepts = [u\"\\xed\\x95\\xb4\\xec\\x99\\xb8\", u\"\\xec\\xa6\\x89\\xec\\x8b\\x9c\", \\n           u\"\\xed\\x95\\xa0\\xec\\x9d\\xb8\",\\n           u\"(\\xea\\xb5\\xad\\xeb\\xaf\\xbc|\\xed\\x95\\x98\\xeb\\x82\\x98|\\xec\\x9a\\xb0\\xeb\\xa6\\xac|\\xeb\\x86\\x8d\\xed\\x98\\x91|\\xec\\x8b\\xa0\\xed\\x95\\x9c|KB)\\xec\\xb9\\xb4\\xeb\\x93\\x9c\", \"\\\\[\", \"\\\\]\", \"\\\\(\", \"\\\\)\", \\n           u\"[\\xe2\\x97\\x80\\xe2\\x96\\xb6\\xe2\\x96\\xb6\\xe2\\x99\\xa5\\xe2\\x97\\x8f\\xef\\xbc\\x8b\\xe2\\x94\\x8f\\xe2\\x96\\xa9\\xe2\\x94\\x93\\xe2\\x98\\x86\\xe2\\x96\\x92\\xe2\\x98\\x9e\\xe2\\x95\\x8b\\xe6\\x9c\\x89\\xe2\\x98\\x9c\\xe5\\x8f\\xa3~\\xe7\\x84\\xa1+.,!@#$%^&*-=\\\\_+|\\xe2\\x94\\x81\\xe2\\x98\\x85\\xe2\\x96\\xa0\\xe2\\x99\\xa3\\xe2\\x94\\x95\\xce\\x9b\\xce\\x9f\\xce\\x9b\\xe2\\x94\\x99]\"];\\n'"
      ]
     },
     "execution_count": 2,
     "metadata": {},
     "output_type": "execute_result"
    }
   ],
   "source": [
    "import re\n",
    "\n",
    "def filtering(name, excepts = []):\n",
    "    for exce in excepts:\n",
    "        name = re.sub(exce, \" \", name).lstrip();\n",
    "    return name\n",
    "    \n",
    "def ngram(n, name):\n",
    "    modified_name = \"\"\n",
    "    i = 0\n",
    "    while i < len(name)-1:\n",
    "        tmp = \" \"\n",
    "        loop = i\n",
    "        count = 0\n",
    "        while(count < n):\n",
    "            if  loop >= len(name) or name[loop] == ' ':\n",
    "                tmp = \" \"\n",
    "                break;\n",
    "            else:\n",
    "                tmp += name[loop]\n",
    "                loop += 1\n",
    "            count += 1\n",
    "        modified_name += tmp\n",
    "        i += 1\n",
    "    return modified_name\n",
    "\n",
    "excepts = [\"\\[\", \"\\]\", \"\\(\", \"\\)\"]"
   ]
  },
  {
   "cell_type": "code",
   "execution_count": 3,
   "metadata": {
    "collapsed": false
   },
   "outputs": [
    {
     "data": {
      "text/plain": [
       "'8275919908'"
      ]
     },
     "execution_count": 3,
     "metadata": {},
     "output_type": "execute_result"
    }
   ],
   "source": [
    "def url_parse(url):\n",
    "    u = re.split('/', url)\n",
    "    #print re.split('\\.', u[4])[0]\n",
    "    try:\n",
    "        t = re.split('\\.', u[4])[0]\n",
    "    except Exception:\n",
    "        t = \"\"\n",
    "    return t\n",
    "\n",
    "url_parse('img=http://shopping.phinf.naver.net/main_8275919/8275919908.jpg')"
   ]
  },
  {
   "cell_type": "code",
   "execution_count": 4,
   "metadata": {
    "collapsed": true
   },
   "outputs": [],
   "source": [
    "import json\n",
    "\n",
    "def many_cate(num, cate):\n",
    "    i = 0\n",
    "    tmp = \"\"\n",
    "    while(i < num):\n",
    "        tmp += \" \" + cate\n",
    "        i += 1\n",
    "    return tmp\n",
    "\n",
    "def image_parse(name, image_name):\n",
    "    try:\n",
    "        file_path = './server/' + str(image_name) + '.json'\n",
    "        f = open(file_path, 'r')\n",
    "        json_data = \"\"\n",
    "        for each in f.readlines():\n",
    "            json_data += each    \n",
    "        j = json.loads(json_data)\n",
    "        for each in j['result'][1]:\n",
    "            if float(each[1]) < 0.5:\n",
    "                name += many_cate(1, each[0])\n",
    "            elif float(each[1]) < 1.0:\n",
    "                name += many_cate(1, each[0])        \n",
    "            elif float(each[1]) < 1.5:\n",
    "                name += many_cate(1, each[0])\n",
    "            elif float(each[1]) < 2.0:\n",
    "                name += many_cate(1, each[0])\n",
    "            elif float(each[1]) >= 2.0:\n",
    "                name += many_cate(1, each[0])\n",
    "            break\n",
    "        for each in j['result'][2]:\n",
    "            if float(each[1]) < 0.5:\n",
    "                name += many_cate(1, each[0])\n",
    "            elif float(each[1]) < 1.0:\n",
    "                name += many_cate(1, each[0])        \n",
    "            elif float(each[1]) < 1.5:\n",
    "                name += many_cate(1, each[0])\n",
    "            elif float(each[1]) < 2.0:\n",
    "                name += many_cate(1, each[0])\n",
    "            elif float(each[1]) >= 2.0:\n",
    "                name += many_cate(1, each[0])\n",
    "            break\n",
    "    except Exception:\n",
    "        pass\n",
    "    #f.close()\n",
    "    return name\n"
   ]
  },
  {
   "cell_type": "code",
   "execution_count": 5,
   "metadata": {
    "collapsed": false
   },
   "outputs": [
    {
     "name": "stdout",
     "output_type": "stream",
     "text": [
      "[\\ud574\\uc678] New Fashion Womens Slim Chiffon Tops Pocket Sleeveless Shirt Casual Blouse Vest S-XXL FE3112\n"
     ]
    }
   ],
   "source": [
    "print image_parse('[\\ud574\\uc678] New Fashion Womens Slim Chiffon Tops Pocket Sleeveless Shirt Casual Blouse Vest S-XXL FE3112', url_parse('http://shopping.phinf.naver.net/main_8313513/8313513096.jpg'))"
   ]
  },
  {
   "cell_type": "code",
   "execution_count": 6,
   "metadata": {
    "collapsed": true
   },
   "outputs": [],
   "source": [
    "\n",
    "clf = joblib.load('classify.model')\n",
    "cate_dict = joblib.load('cate_dict.dat')\n",
    "vectorizer = joblib.load('vectorizer.dat')\n"
   ]
  },
  {
   "cell_type": "code",
   "execution_count": 7,
   "metadata": {
    "collapsed": false
   },
   "outputs": [
    {
     "data": {
      "text/plain": [
       "['n_classify.model',\n",
       " 'n_classify.model_01.npy',\n",
       " 'n_classify.model_02.npy',\n",
       " 'n_classify.model_03.npy']"
      ]
     },
     "execution_count": 7,
     "metadata": {},
     "output_type": "execute_result"
    }
   ],
   "source": [
    "joblib.dump(clf,'n_classify.model')"
   ]
  },
  {
   "cell_type": "code",
   "execution_count": 8,
   "metadata": {
    "collapsed": false
   },
   "outputs": [
    {
     "data": {
      "text/plain": [
       "['n_vectorizer.dat']"
      ]
     },
     "execution_count": 8,
     "metadata": {},
     "output_type": "execute_result"
    }
   ],
   "source": [
    "joblib.dump(cate_dict,'n_cate_dict.dat')\n",
    "joblib.dump(vectorizer,'n_vectorizer.dat')"
   ]
  },
  {
   "cell_type": "code",
   "execution_count": 9,
   "metadata": {
    "collapsed": false
   },
   "outputs": [],
   "source": [
    "cate_id_name_dict = dict(map(lambda (k,v):(v,k),cate_dict.items()))"
   ]
  },
  {
   "cell_type": "code",
   "execution_count": null,
   "metadata": {
    "collapsed": false
   },
   "outputs": [
    {
     "name": "stdout",
     "output_type": "stream",
     "text": [
      "패션의류;아동의류;한복\n"
     ]
    }
   ],
   "source": [
    "pred = clf.predict(vectorizer.transform(['[신한카드5%할인][서우한복] 아동한복 여자아동 금나래 (분홍)']))[0]\n",
    "print cate_id_name_dict[pred]"
   ]
  },
  {
   "cell_type": "code",
   "execution_count": null,
   "metadata": {
    "collapsed": false
   },
   "outputs": [
    {
     "name": "stderr",
     "output_type": "stream",
     "text": [
      "Bottle v0.12.9 server starting up (using WSGIRefServer())...\n",
      "Listening on http://0.0.0.0:8887/\n",
      "Hit Ctrl-C to quit.\n",
      "\n"
     ]
    }
   ],
   "source": [
    "from bottle import route, run, template,request,get, post\n",
    "\n",
    "\n",
    "import  time\n",
    "from threading import  Condition\n",
    "_CONDITION = Condition()\n",
    "@route('/classify')\n",
    "def classify():\n",
    "    print \"classify called\"\n",
    "    img = request.GET.get('img','')\n",
    "    name = request.GET.get('name', '')\n",
    "    tmp = \"\"\n",
    "    for each in twitter.morphs(filtering(name)):\n",
    "        tmp += \" \" + each\n",
    "    name = (filtering(tmp, excepts) + ' ' + name)\n",
    "    name = image_parse(name, url_parse(img))\n",
    "    pred = clf.predict(vectorizer.transform([name]))[0]\n",
    "    return {'cate':cate_id_name_dict[pred]}\n",
    "\n",
    "\n",
    "run(host='0.0.0.0', port=8887)\n"
   ]
  },
  {
   "cell_type": "markdown",
   "metadata": {
    "collapsed": true
   },
   "source": [
    " * 추후 여기 docker 에서 뭔가 python package 설치할게 있으면 \n",
    " * /opt/conda/bin/pip2 install bottle 이런식으로 설치 가능"
   ]
  },
  {
   "cell_type": "code",
   "execution_count": null,
   "metadata": {
    "collapsed": true
   },
   "outputs": [],
   "source": []
  },
  {
   "cell_type": "code",
   "execution_count": null,
   "metadata": {
    "collapsed": true
   },
   "outputs": [],
   "source": []
  }
 ],
 "metadata": {
  "kernelspec": {
   "display_name": "Python 2",
   "language": "python",
   "name": "python2"
  },
  "language_info": {
   "codemirror_mode": {
    "name": "ipython",
    "version": 2
   },
   "file_extension": ".py",
   "mimetype": "text/x-python",
   "name": "python",
   "nbconvert_exporter": "python",
   "pygments_lexer": "ipython2",
   "version": "2.7.11"
  },
  "widgets": {
   "state": {},
   "version": "1.1.2"
  }
 },
 "nbformat": 4,
 "nbformat_minor": 0
}
